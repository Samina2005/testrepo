{
 "cells": [
  {
   "cell_type": "markdown",
   "metadata": {},
   "source": [
    "# **Q.1) Write a code to find the degree of each vertex and store it in a dictionary. Sort the keys of the dictionary by the degree stored in the values**\n",
    "<b><h3>The degree of a node is the number of edges connected to that node</h1>"
   ]
  },
  {
   "cell_type": "code",
   "execution_count": null,
   "metadata": {},
   "outputs": [
    {
     "name": "stdout",
     "output_type": "stream",
     "text": [
      "{'s1': 2, 's2': 3, 's3': 2, 's4': 1, 's5': 2}\n",
      "{'s5': ['s1', 's2'], 's3': ['s2', 's4'], 's1': ['s2', 's5'], 's4': ['s3'], 's2': ['s3', 's5', 's2']}\n"
     ]
    }
   ],
   "source": [
    "def find_degree(input_graph):\n",
    "    degree_dict = {}                            # Initialize an empty dictionary to store the degree of each node\n",
    "    for key, value in input_graph.items():      # Iterate through each node and its adjacency list\n",
    "        degree_dict[key] = len(value)           # Count the number of connections (edges) for the node\n",
    "    return degree_dict                          # Return the dictionary containing node degrees\n",
    "\n",
    "\n",
    "\n",
    "# Function to sort the dictionary based on values (degree)\n",
    "def sort_keys(dict1):\n",
    "    items = list(dict1.items())                                 # Convert dictionary items into a list of key-value pairs\n",
    "    n = len(items)                                              # Get the number of items in the list\n",
    "    for i in range(n):                                             # Perform Bubble Sort to arrange items in ascending order based on values\n",
    "        for j in range(n - i - 1):\n",
    "            if items[j][1] > items[j + 1][1]:                       # Compare adjacent values\n",
    "                items[j], items[j + 1] = items[j + 1], items[j]      # Swap if necessary    \n",
    "    sorted_dict = {}                                                # Create an empty dictionary\n",
    "    for key, _ in items:                                            # Loop through each key-value pair in the sorted list\n",
    "        sorted_dict[key] = dict1[key]                               # Assign values from the original dictionary\n",
    "    return sorted_dict\n",
    "\n",
    "\n",
    "dict1 = {\"s1\": [\"s2\", \"s5\"], \"s2\": [\"s3\", \"s5\", \"s2\"], \"s3\": [\"s2\", \"s4\"], \"s4\": [\"s3\"], \"s5\": [\"s1\", \"s2\"]}\n",
    "\n",
    "degree_dict = find_degree(dict1)  \n",
    "print(degree_dict)\n",
    "sorted_dict = sort_keys(dict1)  \n",
    "print(sorted_dict)\n"
   ]
  },
  {
   "cell_type": "markdown",
   "metadata": {},
   "source": [
    "# **Q.2) Write a code to inter-convert these 3 graph representations**\n",
    "<h3>There are three types of graph representations. They are in the following:<br>\n",
    "<b>(i) Adjacency Matrix</b> - An adjacency matrix is a square matrix used to represent a graph, where each row and column represents a vertex, and the elements indicate if there's an edge between the vertices.<br>\n",
    "<b>(ii) Adjacency List</b> - An adjacency list is a data structure used to represent a graph where each node in the graph stores a list of its neighboring vertices.<br>\n",
    "<b>(iii) Edge List</b> - An edge list is a way to represent a graph by listing all of its edges."
   ]
  },
  {
   "cell_type": "code",
   "execution_count": null,
   "metadata": {},
   "outputs": [
    {
     "data": {
      "text/plain": [
       "{'s1': ['s2', 's5'],\n",
       " 's2': ['s1', 's3', 's5'],\n",
       " 's3': ['s2', 's4'],\n",
       " 's4': ['s3'],\n",
       " 's5': ['s1', 's2']}"
      ]
     },
     "execution_count": 2,
     "metadata": {},
     "output_type": "execute_result"
    }
   ],
   "source": [
    "import numpy as np                                              # Import NumPy for handling matrices\n",
    "\n",
    "# Function to convert an adjacency dictionary to an adjacency list (edge list)\n",
    "def dict_to_list(graph_dict):\n",
    "    lst = []                                                # Initialize an empty list to store edges\n",
    "    for i in graph_dict:                                    # Loop through each node in the dictionary\n",
    "        for j in graph_dict[i]:                             # Loop through its connected nodes\n",
    "            if (j, i) not in lst:                           # Avoid duplicate edges (undirected graph)\n",
    "                lst.append((i, j))                          # Add the edge to the list\n",
    "    return lst                                              # Return the edge list\n",
    "\n",
    "\n",
    "\n",
    "# Function to convert an edge list to an adjacency dictionary\n",
    "def list_to_dict(lst):\n",
    "    graph_dict = {}                             # Initialize an empty dictionary\n",
    "    for i, j in lst:                            # Loop through each edge (node pair)\n",
    "        if i not in graph_dict:                 # If node i is not in dictionary, add it\n",
    "            graph_dict[i] = []\n",
    "        if j not in graph_dict:                 # If node j is not in dictionary, add it\n",
    "            graph_dict[j] = []\n",
    "        graph_dict[i].append(j)                 # Add j to i’s adjacency list\n",
    "        graph_dict[j].append(i)                 # Add i to j’s adjacency list (undirected)\n",
    "    return graph_dict                           # Return the adjacency dictionary\n",
    "\n",
    "\n",
    "\n",
    "# Function to convert an adjacency matrix to an adjacency dictionary\n",
    "def matrix_to_dict(mat, nodes):\n",
    "    graph_dict = {}                                     # Initialize an empty dictionary\n",
    "    for node in nodes:                                  # Initialize each node with an empty adjacency list\n",
    "        graph_dict[node] = []\n",
    "\n",
    "    for i in range(len(nodes)):                          # Loop through rows of the matrix\n",
    "        for j in range(len(nodes)):                      # Loop through columns of the matrix\n",
    "            if mat[i][j] == 1:                           # If an edge exists (1 in the matrix)\n",
    "                graph_dict[nodes[i]].append(nodes[j])    # Add to adjacency list\n",
    "    return graph_dict                                    # Return the adjacency dictionary\n",
    "\n",
    "\n",
    "\n",
    "# Function to convert an adjacency matrix to an edge list\n",
    "def matrix_to_list(mat, nodes):\n",
    "    lst = []                                            # Initialize an empty list for edges\n",
    "    for i in range(len(nodes)):                         # Loop through rows of the matrix\n",
    "        for j in range(i + 1, len(nodes)):              # Only consider upper triangle (avoid duplicates)\n",
    "            if mat[i][j] == 1:                          # If an edge exists\n",
    "                lst.append((nodes[i], nodes[j]))        # Add edge to list\n",
    "    return lst                                          # Return the edge list\n",
    "\n",
    "\n",
    "\n",
    "# Function to convert an edge list to an adjacency matrix\n",
    "def list_to_matrix(lst, nodes):\n",
    "    n = len(nodes)                                   # Get the number of nodes\n",
    "    adj_matrix = [[0] * n for _ in range(n)]         # Initialize a square matrix with zeros\n",
    "    \n",
    "    for a, b in lst:                                 # Loop through each edge\n",
    "        i = nodes.index(a)                           # Get index of node a\n",
    "        j = nodes.index(b)                           # Get index of node b\n",
    "        adj_matrix[i][j] = adj_matrix[j][i] = 1      # Set the matrix values to 1 (undirected)\n",
    "    return adj_matrix                                # Return the adjacency matrix\n",
    "\n",
    "\n",
    "\n",
    "\n",
    "# Function to convert an adjacency dictionary to an adjacency matrix\n",
    "def adjacency_list_to_matrix(adj_list):\n",
    "    nodes = list(adj_list.keys())                    # Extract the node names from the dictionary\n",
    "    size = len(nodes)                                # Get the total number of nodes\n",
    "    matrix = [[0] * size for _ in range(size)]       # Initialize a square matrix with zeros\n",
    "    \n",
    "    for i, node in enumerate(nodes):                 # Loop through each node\n",
    "        for neighbor in adj_list[node]:              # Loop through each neighbor\n",
    "            j = nodes.index(neighbor)                # Get index of the neighbor\n",
    "            matrix[i][j] = 1                         # Mark edge in the adjacency matrix\n",
    "    return matrix                                    # Return the adjacency matrix\n",
    "\n",
    "\n",
    "\n",
    "# Function to handle different graph conversion types\n",
    "def convert_graph(graph, from_type, to_type, nodes=None):\n",
    "    if from_type == \"dict\" and to_type == \"list\":           # Convert adjacency dictionary to edge list\n",
    "        return dict_to_list(graph)\n",
    "    elif from_type == \"list\" and to_type == \"dict\":         # Convert edge list to adjacency dictionary\n",
    "        return list_to_dict(graph)\n",
    "    elif from_type == \"matrix\" and to_type == \"dict\":       # Convert adjacency matrix to adjacency dictionary\n",
    "        return matrix_to_dict(graph, nodes)\n",
    "    elif from_type == \"matrix\" and to_type == \"list\":       # Convert adjacency matrix to edge list\n",
    "        return matrix_to_list(graph, nodes)\n",
    "    elif from_type == \"list\" and to_type == \"matrix\":       # Convert edge list to adjacency matrix\n",
    "        return list_to_matrix(graph, nodes)\n",
    "    elif from_type == \"dict\" and to_type == \"matrix\":       # Convert adjacency dictionary to adjacency matrix\n",
    "        return adjacency_list_to_matrix(graph)\n",
    "    else:                                                   # If invalid conversion types are given\n",
    "        print(\"Invalid types\")                              # Print an error message\n",
    "\n",
    "\n",
    "adjacency_matrix = np.array([[0, 1, 0, 0, 1],  [1, 0, 1, 0, 1],  [0, 1, 0, 1, 0],  [0, 0, 1, 0, 0], [1, 1, 0, 0, 0]   ])\n",
    "convert_graph(adjacency_matrix, \"matrix\", \"dict\", [\"s1\", \"s2\", \"s3\", \"s4\", \"s5\"])\n",
    "\n"
   ]
  },
  {
   "cell_type": "markdown",
   "metadata": {},
   "source": [
    "# **Q.3)Given a graph and two vertices, check if they are adjacent.**\n",
    "<h3>In graph theory, two vertices are considered adjacent if they are directly connected by an edge. In simpler terms, it means they are neighbors within the graph. \n"
   ]
  },
  {
   "cell_type": "code",
   "execution_count": 3,
   "metadata": {},
   "outputs": [
    {
     "data": {
      "text/plain": [
       "False"
      ]
     },
     "execution_count": 3,
     "metadata": {},
     "output_type": "execute_result"
    }
   ],
   "source": [
    "import numpy as np                      # Import the NumPy library to handle matrices\n",
    "\n",
    "# Function to check if two nodes are adjacent in an adjacency matrix\n",
    "def check_adjacency(mat, n1, n2, nodes):\n",
    "    for i in range(len(nodes)):                                                                  # Loop through each row (node)\n",
    "        for j in range(i + 1, len(nodes)):                                                       # Loop through each column (only upper triangle to avoid duplicate checks)\n",
    "            if mat[i][j] == 1:                                                                   # If there is an edge between nodes[i] and nodes[j]\n",
    "                if (nodes[i] == n1 and nodes[j] == n2) or (nodes[i] == n2 and nodes[j] == n1):   # Check if the current edge matches the given nodes \n",
    "                    return True                                                                  # Return True if the nodes are adjacent\n",
    "    return False                                                                                  # Return False if the nodes are not adjacent\n",
    "\n",
    "\n",
    "nodes=['s1','s2','s3','s4','s5']         \n",
    "mat=np.array([[0,1,0,0,1],[1,0,1,0,1],[0,1,0,1,0],[0,0,1,0,0],[1,1,0,0,0]]) \n",
    "check_adjacency(mat,'s3','s1',nodes)"
   ]
  },
  {
   "cell_type": "markdown",
   "metadata": {},
   "source": [
    "# **Q.4) Check if a graph is complete**\n",
    "<h3> A complete graph is a graph where every vertex (node) is connected to every other vertex with a unique edge. In other words, it's a graph with the maximum possible number of edges for a given number of vertices."
   ]
  },
  {
   "cell_type": "code",
   "execution_count": null,
   "metadata": {},
   "outputs": [
    {
     "data": {
      "text/plain": [
       "False"
      ]
     },
     "execution_count": 4,
     "metadata": {},
     "output_type": "execute_result"
    }
   ],
   "source": [
    "import numpy as np              # Import NumPy for matrix operations\n",
    "\n",
    "\n",
    "# Function to check if a graph represented by an adjacency matrix is a complete graph\n",
    "def check_complete(mat):\n",
    "    for i in range(len(mat)):               # Loop through each row of the matrix\n",
    "        for j in range(len(mat)):           # Loop through each column of the matrix\n",
    "            if i == j and mat[i][j] != 0:   # Check if diagonal elements are not 0 (self-loops should not exist)\n",
    "                return False                # If there's a self-loop, return False (not a complete graph)\n",
    "            if i != j and mat[i][j] != 1:   # Check if all non-diagonal elements are 1 (indicating a full connection)\n",
    "                return False                # If any non-diagonal element is not 1, return False (not a complete graph)\n",
    "    return True                             # If all conditions are met, return True (graph is complete)\n",
    "\n",
    "mat=np.array([[0,1,0,0,1],[1,0,1,0,1],[0,1,0,1,0],[0,0,1,1,0],[1,1,0,0,0]]) \n",
    "check_complete(mat)"
   ]
  },
  {
   "cell_type": "markdown",
   "metadata": {},
   "source": [
    "# **Q.5) Check if a graph is connected.**\n",
    "<h3>A connected graph is a graph where every vertex is reachable from every other vertex by following the edges. In simpler terms, it means there's at least one path (a sequence of edges) between any two vertices in the graph. If a graph is not connected, it's considered a disconnected graph."
   ]
  },
  {
   "cell_type": "code",
   "execution_count": 5,
   "metadata": {},
   "outputs": [
    {
     "data": {
      "text/plain": [
       "False"
      ]
     },
     "execution_count": 5,
     "metadata": {},
     "output_type": "execute_result"
    }
   ],
   "source": [
    "def is_connected(graph):    \n",
    "    start_node = list(graph.keys())[0]       # Choose an arbitrary starting node (the first key in the dictionary)\n",
    "    visited = []                             # List to track visited nodes\n",
    "    queue = [start_node]                     # Queue for traversal\n",
    "    visited.append(start_node)               # Mark the starting node as visited\n",
    "    \n",
    "    while queue:                             # Perform  traversal\n",
    "        current = queue.pop(0)               # Dequeue the front node\n",
    "        for neighbor in graph[current]:      # Traverse all adjacent nodes of the current node\n",
    "            if neighbor not in visited:      # If the neighbor hasn't been visited\n",
    "                visited.append(neighbor)     # Mark it as visited\n",
    "                queue.append(neighbor)      # Enqueue it for further traversal\n",
    "    return len(visited) == len(graph)       # If the number of visited nodes equals the total number of nodes in the graph, it is connected\n",
    "\n",
    "\n",
    "dict1={\"s1\":[\"s2\"],\"s2\":[\"s3\",\"s1\"],\"s3\":[\"s2\"],\"s4\":[\"s5\"],\"s5\":[\"s4\",\"s6\"],\"s6\":[\"s5\"]}\n",
    "is_connected(dict1)\n"
   ]
  },
  {
   "cell_type": "markdown",
   "metadata": {},
   "source": [
    "# ***Q.6) Given a graph and a list of vertices, check if it forms a walk, or a trail or a path or none of these.***\n",
    "<h3><b>1) <u>Walk</u></b> - A walk in a graph is a sequence of vertices and edges where both edges and vertices can be repeated. The length of the walk refers to the number of edges covered in the sequence. A graph can contain multiple walks.<br>\n",
    "<b>2) <u>Trail</u></b> - A trail is an open walk in which no edge is repeated, though vertices may be repeated.There are two types of trails:<br>\n",
    "<b>Open Trail:</b> A trail is considered an open trail if the starting and ending vertices are different.<br>\n",
    "<b>Closed Trail:</b> A trail is a closed trail if the starting and ending vertices are the same.\n",
    "In a trail, the key point to remember is that: Edges cannot be repeated, but vertices can be repeated. <br>\n",
    "<b>3) <u>Path</u></b> - A path is a trail in which neither vertices nor edges are repeated.  \n"
   ]
  },
  {
   "cell_type": "code",
   "execution_count": 6,
   "metadata": {},
   "outputs": [
    {
     "name": "stdout",
     "output_type": "stream",
     "text": [
      "['A', 'B', 'D']: Path\n",
      "['A', 'B', 'C', 'A']: Trail\n",
      "['A', 'B', 'C', 'B']: Walk\n",
      "['A', 'C', 'D']: None\n"
     ]
    }
   ],
   "source": [
    "# Function to check if a given sequence in a graph is a walk, trail, or path\n",
    "\n",
    "\n",
    "def check_sequence(graph, sequence):                # Check if the given sequence is a walk (any valid sequence of edges)\n",
    "    for i in range(len(sequence) - 1):              # Iterate through the sequence\n",
    "        found = False                               # Flag to check if the edge exists\n",
    "        for neighbor in graph[sequence[i]]:         # Check all neighbors of the current node\n",
    "            if neighbor == sequence[i + 1]:         # If the next node in the sequence is a neighbor\n",
    "                found = True                        # Mark as found\n",
    "                break                               # Exit loop since edge exists\n",
    "        if not found:                               # If no valid edge is found, return \"None\"\n",
    "            return \"None\"\n",
    "\n",
    "\n",
    "    # Check if it is a trail (no repeated edges)\n",
    "    edges = []                                              # List to store visited edges\n",
    "    for i in range(len(sequence) - 1):                      # Iterate through the sequence\n",
    "        edge = (sequence[i], sequence[i + 1])               # Create an edge tuple\n",
    "        reverse_edge = (sequence[i + 1], sequence[i])       # Create the reverse edge tuple (for undirected graph)\n",
    "        for e in edges:                                     # Check if the edge is already in the list\n",
    "            if e == edge or e == reverse_edge:  \n",
    "                return \"Walk\"                               # If any edge is repeated, it's a walk but not a trail\n",
    "        edges.append(edge)                                   # Add the edge to the list\n",
    "\n",
    "\n",
    "\n",
    "    # Check if it's a path (no repeated vertices)\n",
    "    vertices = []                           # List to store visited vertices\n",
    "    for v in sequence:                      # Iterate through the sequence\n",
    "        for vertex in vertices:             # Check if the vertex has already appeared\n",
    "            if vertex == v:  \n",
    "                return \"Trail\"              # If a vertex repeats, it's a trail but not a path\n",
    "        vertices.append(v)                  # Add vertex to the list\n",
    "    return \"Path\"                           # If no vertices repeat, it's a path\n",
    "\n",
    "\n",
    "graph = {'A': ['B', 'C'],'B': ['A', 'D', 'C'],'C': ['A', 'B'],'D': ['B']}\n",
    "sequences = [['A', 'B', 'D'],['A', 'B', 'C', 'A'],['A', 'B', 'C', 'B'],['A', 'C', 'D']]\n",
    "\n",
    "for seq in sequences:\n",
    "    print(f\"{seq}: {check_sequence(graph, seq)}\")\n"
   ]
  },
  {
   "cell_type": "markdown",
   "metadata": {},
   "source": [
    "# ***Q.7)Check if a given graph is a tree.***\n",
    "<h3>In graph theory, a tree is a connected, acyclic graph. This means it has no loops or cycles, and there's exactly one path between any two nodes. Trees are often used to represent hierarchical relationships, and they have (n-1) edges, where 'n' is the number of nodes. "
   ]
  },
  {
   "cell_type": "code",
   "execution_count": 16,
   "metadata": {},
   "outputs": [
    {
     "name": "stdout",
     "output_type": "stream",
     "text": [
      "False\n"
     ]
    }
   ],
   "source": [
    "def is_tree(graph):\n",
    "\n",
    "    # Helper function for connectivity check \n",
    "    def is_connected(graph):    \n",
    "        start_node = list(graph.keys())[0]       # Choose an arbitrary starting node (the first key in the dictionary)\n",
    "        visited = []                             # List to track visited nodes\n",
    "        queue = [start_node]                     # Queue for traversal\n",
    "        visited.append(start_node)               # Mark the starting node as visited\n",
    "        \n",
    "        while queue:                             # Perform  traversal\n",
    "            current = queue.pop(0)               # Dequeue the front node\n",
    "            for neighbor in graph[current]:      # Traverse all adjacent nodes of the current node\n",
    "                if neighbor not in visited:      # If the neighbor hasn't been visited\n",
    "                    visited.append(neighbor)     # Mark it as visited\n",
    "                    queue.append(neighbor)      # Enqueue it for further traversal\n",
    "        return len(visited) == len(graph)       # If the number of visited nodes equals the total number of nodes in the graph, it is connected\n",
    "\n",
    "\n",
    "\n",
    "    \n",
    "    def has_cycle(node, parent, visited, graph):\n",
    "        visited.add(node)                                              # Mark the current node as visited\n",
    "        for neighbor in graph[node]:                                    # Iterate through each neighbor of the node\n",
    "            if neighbor not in visited:\n",
    "                if has_cycle(neighbor, node, visited, graph):           # Recursively check for cycles in the neighboring nodes\n",
    "                    return True\n",
    "            elif neighbor != parent:  \n",
    "                return True                                             # If the neighbor is visited and is not the parent, a cycle is found\n",
    "        return False                                                    # No cycle found in this path\n",
    "\n",
    "\n",
    "    if not is_connected(graph):     # Check if the graph is connected\n",
    "        return False                # If the graph is not connected, it cannot be a tree\n",
    "    \n",
    "\n",
    "    # Check for cycles\n",
    "    visited = set()                                      # Initialize a set to track visited nodes\n",
    "    start_node = list(graph.keys())[0]                   # Select any node as the starting node\n",
    "    if has_cycle(start_node, None, visited, graph):\n",
    "        return False                                        # If a cycle is found, the graph is not a tree\n",
    "    \n",
    "\n",
    "    # Calculate the number of edges using a loop\n",
    "    edge_count = 0                                  # Initialize edge counter\n",
    "    for neighbors in graph.values():\n",
    "        edge_count += len(neighbors)                 # Count all occurrences of edges\n",
    "    edge_count //= 2                                # Since each edge is counted twice (once for each node)\n",
    "\n",
    "\n",
    "    # Check if the number of edges is exactly (N-1)\n",
    "    node_count = len(graph)                     # Get the total number of nodes\n",
    "    if edge_count != node_count - 1:\n",
    "        return False                            # If edges do not match N-1 condition, it is not a tree\n",
    "    return True                                 # If all conditions are met, return True\n",
    "\n",
    "\n",
    "graph_example = {\"s1\": [\"s2\", \"s5\"],\"s2\": [\"s1\", \"s3\", \"s5\"],\"s3\": [\"s2\", \"s4\"],\"s4\": [\"s3\"],\"s5\": [\"s1\", \"s2\"]}\n",
    "print( is_tree(graph_example))\n"
   ]
  },
  {
   "cell_type": "markdown",
   "metadata": {},
   "source": [
    "# ***Q.8) Given a connected cyclic graph, find its spanning tree.***\n",
    "<h3>A spanning tree is a subset of Graph G, such that all the vertices are connected using minimum possible number of edges. Hence, a spanning tree does not have cycles and a graph may have more than one spanning tree."
   ]
  },
  {
   "cell_type": "code",
   "execution_count": 9,
   "metadata": {},
   "outputs": [
    {
     "name": "stdout",
     "output_type": "stream",
     "text": [
      "Spanning Tree Edges: [('A', 'B'), ('B', 'D'), ('B', 'E'), ('E', 'C')]\n"
     ]
    }
   ],
   "source": [
    "def spanning_tree(graph, node, visited, tree):\n",
    "    visited.add(node)                                   # Mark the current node as visited\n",
    "    for i in graph[node]:                               # Iterate over all adjacent nodes\n",
    "        if i not in visited:                            # If the neighbor has not been visited\n",
    "            tree.append((node, i))                      # Add the edge to the spanning tree\n",
    "            spanning_tree(graph, i, visited, tree)      # Recursively visit the next node\n",
    "\n",
    "\n",
    "\n",
    "# Function to find a spanning tree for a given graph\n",
    "def find_spanning_tree(graph):\n",
    "    visited = set()                                         # Keep track of visited nodes\n",
    "    tree_edges = []                                         # List to store spanning tree edges\n",
    "    \n",
    "    start_node = list(graph.keys())[0]                      # Pick the first node in the graph as the starting node\n",
    "    spanning_tree(graph, start_node, visited, tree_edges)   # Generate the spanning tree\n",
    "    return tree_edges                                        # Return the list of edges forming the spanning tree\n",
    "\n",
    "graph = {'A': ['B', 'C'],'B': ['A', 'D', 'E'],'C': ['A', 'E'],'D': ['B'],'E': ['B', 'C']}\n",
    "\n",
    "spanning_tree = find_spanning_tree(graph)\n",
    "print(\"Spanning Tree Edges:\", spanning_tree)\n"
   ]
  },
  {
   "cell_type": "markdown",
   "metadata": {},
   "source": [
    "# **Q.9) Given a tree, find the number of leaf nodes.**\n",
    "<h3>A leaf node is a node that has no children. It's the end of a branch in the tree, representing a terminal point in the structure. "
   ]
  },
  {
   "cell_type": "code",
   "execution_count": 10,
   "metadata": {},
   "outputs": [
    {
     "data": {
      "text/plain": [
       "3"
      ]
     },
     "execution_count": 10,
     "metadata": {},
     "output_type": "execute_result"
    }
   ],
   "source": [
    "def leaf_nodes(tree):\n",
    "    count = 0                    # Initialize leaf node count\n",
    "    for node in tree:            # Iterate through each node in the tree\n",
    "        if not tree[node]:       # If the node has no children (empty list)\n",
    "            count += 1           # Increment the leaf node count\n",
    "    return count                # Return the total number of leaf nodes\n",
    "\n",
    "\n",
    "tree = {1: [2, 3],2: [4, 5],3: [],4:[],5:[]}\n",
    "leaf_nodes(tree)\n"
   ]
  },
  {
   "cell_type": "markdown",
   "metadata": {},
   "source": [
    "# **Q.10)Given a tree, check if it's a binary tree.**\n",
    "<h3>A binary tree is a hierarchical data structure where each node can have at most two child nodes, referred to as the left and right child. The top node is called the root, and nodes without any children are called leaves."
   ]
  },
  {
   "cell_type": "code",
   "execution_count": 11,
   "metadata": {},
   "outputs": [
    {
     "name": "stdout",
     "output_type": "stream",
     "text": [
      "True\n"
     ]
    }
   ],
   "source": [
    "def binary_tree(tree):\n",
    "    for i in tree:                  # Iterate through each node in the tree\n",
    "        if len(tree[i]) > 2:        # If a node has more than 2 children, it's not a binary tree\n",
    "            return False            # Return False if the condition is met\n",
    "    return True                     # If no node has more than 2 children, return True\n",
    "\n",
    "\n",
    "tree = {1: [2, 3],2: [4, 5],3: [],4:[],5:[]}\n",
    "print(binary_tree(tree))  "
   ]
  },
  {
   "cell_type": "markdown",
   "metadata": {},
   "source": [
    "# **Q.11) Given a tree, find its height.**\n",
    "<h3>In graph theory, the height of a tree is the number of edges on the longest path from the root node to any leaf node. It essentially measures the \"tallness\" of the tree, counting the edges along the longest path downward from the root. \n"
   ]
  },
  {
   "cell_type": "code",
   "execution_count": 12,
   "metadata": {},
   "outputs": [
    {
     "name": "stdout",
     "output_type": "stream",
     "text": [
      "2\n"
     ]
    }
   ],
   "source": [
    "def tree_height(tree, root):\n",
    "    if root not in tree or len(tree[root]) == 0:   # If the root is not in the tree or it has no children, return height as 0\n",
    "        return 0  \n",
    "    \n",
    "    max_height = 0                                  # Initialize max height variable\n",
    "    for child in tree[root]:                        # Iterate through each child of the root node\n",
    "        child_height = tree_height(tree, child)      # Recursively find child's height\n",
    "        if child_height > max_height:               # Update max height if child's height is greater\n",
    "            max_height = child_height\n",
    "    return 1 + max_height                            # Add 1 to account for the current node\n",
    "\n",
    "tree = {1: [2, 3],2: [4, 5],3: [],4:[],5:[]}\n",
    "print(tree_height(tree, 1)) \n"
   ]
  },
  {
   "cell_type": "markdown",
   "metadata": {},
   "source": [
    "# **Q.12) Given a tree, find its depth.**\n",
    "<h3>The depth of a node is the number of edges on the path from the node to the root. The root node has a depth of 0. It measures the \"vertical\" distance from a node to the top of the tree (the root)."
   ]
  },
  {
   "cell_type": "code",
   "execution_count": 13,
   "metadata": {},
   "outputs": [
    {
     "name": "stdout",
     "output_type": "stream",
     "text": [
      "2\n",
      "1\n",
      "-1\n"
     ]
    }
   ],
   "source": [
    "def node_depth(tree, root, target, depth=0):\n",
    "\n",
    "    if root not in tree:                        # If the root is not in the tree, return -1 (node not found)\n",
    "        return -1\n",
    "\n",
    "    if root == target:                         # If the root is the target node, return the current depth\n",
    "        return depth\n",
    "\n",
    "    for child in tree[root]:                     # Recursively search in the children of the current node\n",
    "        child_depth = node_depth(tree, child, target, depth + 1)\n",
    "        if child_depth != -1:                    # If the target node is found in the subtree, return its depth\n",
    "            return child_depth  \n",
    "    return -1                                    # If the node is not found, return -1\n",
    "\n",
    "tree = {1: [2, 3],2: [4, 5],3: [],4:[],5:[]}\n",
    "\n",
    "print(node_depth(tree, 1, 5)) \n",
    "print(node_depth(tree, 1, 3))  \n",
    "print(node_depth(tree, 1, 7))  \n"
   ]
  }
 ],
 "metadata": {
  "kernelspec": {
   "display_name": "Python 3",
   "language": "python",
   "name": "python3"
  },
  "language_info": {
   "codemirror_mode": {
    "name": "ipython",
    "version": 3
   },
   "file_extension": ".py",
   "mimetype": "text/x-python",
   "name": "python",
   "nbconvert_exporter": "python",
   "pygments_lexer": "ipython3",
   "version": "3.12.5"
  }
 },
 "nbformat": 4,
 "nbformat_minor": 2
}
